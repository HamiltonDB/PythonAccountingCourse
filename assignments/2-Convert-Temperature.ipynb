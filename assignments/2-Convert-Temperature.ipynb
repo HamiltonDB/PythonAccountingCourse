{
 "cells": [
  {
   "cell_type": "code",
   "execution_count": 1,
   "id": "77b14b1f-74a1-4f6c-94ae-eb4b22d83ba1",
   "metadata": {},
   "outputs": [],
   "source": [
    "def convert_temperature(celsius):\n",
    "    \"\"\"\n",
    "    Your task: Convert a temperature from Celsius to Fahrenheit.\n",
    "    \n",
    "    The formula is: Fahrenheit = (Celsius * 9/5) + 32\n",
    "    \n",
    "    For example, if celsius = 0, the result should be 32.\n",
    "    \n",
    "    Complete this function so it returns the temperature in Fahrenheit.\n",
    "    \"\"\"\n",
    "    \n",
    "    # YOUR CODE HERE\n",
    "    pass"
   ]
  },
  {
   "cell_type": "code",
   "execution_count": 3,
   "id": "4e8eabca-c759-43f7-9de6-836a84ed97c9",
   "metadata": {},
   "outputs": [
    {
     "name": "stdout",
     "output_type": "stream",
     "text": [
      "Testing convert_temperature:\n",
      "----------------------------------------\n",
      "❌ 0°C: FAIL (Expected 32, got None)\n",
      "❌ 100°C: FAIL (Expected 212, got None)\n",
      "❌ 25°C: FAIL (Expected 77, got None)\n"
     ]
    }
   ],
   "source": [
    "# Testing code, run to see if your code is correct\n",
    "def test_function(test_name, actual_result, expected_result):\n",
    "    \"\"\"Run a test and print if it passed or failed.\"\"\"\n",
    "    if actual_result == expected_result:\n",
    "        print(f\"✅ {test_name}: PASS\")\n",
    "    else:\n",
    "        print(f\"❌ {test_name}: FAIL (Expected {expected_result}, got {actual_result})\")\n",
    "\n",
    "\n",
    "print(\"Testing convert_temperature:\")\n",
    "print(\"-\" * 40)\n",
    "\n",
    "# Test case 1\n",
    "test_function(\"0°C\", convert_temperature(0), 32)\n",
    "\n",
    "# Test case 2\n",
    "test_function(\"100°C\", convert_temperature(100), 212)\n",
    "\n",
    "# Test case 3\n",
    "test_function(\"25°C\", convert_temperature(25), 77)"
   ]
  },
  {
   "cell_type": "code",
   "execution_count": null,
   "id": "1a38f38a-6f03-4e13-9392-34d837d08207",
   "metadata": {},
   "outputs": [],
   "source": []
  }
 ],
 "metadata": {
  "kernelspec": {
   "display_name": "Python [conda env:base] *",
   "language": "python",
   "name": "conda-base-py"
  },
  "language_info": {
   "codemirror_mode": {
    "name": "ipython",
    "version": 3
   },
   "file_extension": ".py",
   "mimetype": "text/x-python",
   "name": "python",
   "nbconvert_exporter": "python",
   "pygments_lexer": "ipython3",
   "version": "3.12.7"
  }
 },
 "nbformat": 4,
 "nbformat_minor": 5
}
