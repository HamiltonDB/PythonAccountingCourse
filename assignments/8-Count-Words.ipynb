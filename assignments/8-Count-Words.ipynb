{
 "cells": [
  {
   "cell_type": "code",
   "execution_count": 1,
   "id": "826d7988-65b6-4f99-b879-3c8089157414",
   "metadata": {},
   "outputs": [],
   "source": [
    "def count_words(text):\n",
    "    \"\"\"\n",
    "    Your task: Count the number of words in a given text.\n",
    "    \n",
    "    Words are separated by spaces. For example, if text = \"Hello world\", return 2.\n",
    "    \n",
    "    For the purpose of this exercise, treat any sequence of characters separated by spaces\n",
    "    as a word, regardless of punctuation.\n",
    "    \n",
    "    For example, if text = \"Python is a great programming language!\", return 6.\n",
    "    \n",
    "    Use a string method to split the text into words and count them.\n",
    "    \"\"\"\n",
    "    \n",
    "    # YOUR CODE HERE\n",
    "    pass"
   ]
  },
  {
   "cell_type": "code",
   "execution_count": 3,
   "id": "2fb727db-d699-40db-98f0-445cea5a9e70",
   "metadata": {},
   "outputs": [
    {
     "name": "stdout",
     "output_type": "stream",
     "text": [
      "Testing count_words:\n",
      "----------------------------------------\n",
      "❌ Words in 'Hello world': FAIL (Expected 2, got None)\n",
      "❌ Words in 'Python is a great programming language!': FAIL (Expected 6, got None)\n",
      "❌ Words in 'One, two, three, four, five.': FAIL (Expected 5, got None)\n"
     ]
    }
   ],
   "source": [
    "# Testing code, run to see if your code is correct\n",
    "def test_function(test_name, actual_result, expected_result):\n",
    "    \"\"\"Run a test and print if it passed or failed.\"\"\"\n",
    "    if actual_result == expected_result:\n",
    "        print(f\"✅ {test_name}: PASS\")\n",
    "    else:\n",
    "        print(f\"❌ {test_name}: FAIL (Expected {expected_result}, got {actual_result})\")\n",
    "\n",
    "\n",
    "print(\"Testing count_words:\")\n",
    "print(\"-\" * 40)\n",
    "\n",
    "# Test case 1\n",
    "test_function(\"Words in 'Hello world'\", count_words(\"Hello world\"), 2)\n",
    "\n",
    "# Test case 2\n",
    "test_function(\"Words in 'Python is a great programming language!'\", \n",
    "              count_words(\"Python is a great programming language!\"), 6)\n",
    "\n",
    "# Test case 3\n",
    "test_function(\"Words in 'One, two, three, four, five.'\", \n",
    "              count_words(\"One, two, three, four, five.\"), 5)"
   ]
  },
  {
   "cell_type": "code",
   "execution_count": null,
   "id": "97c5da0b-8e13-497b-bd50-e321233efc1e",
   "metadata": {},
   "outputs": [],
   "source": []
  }
 ],
 "metadata": {
  "kernelspec": {
   "display_name": "Python [conda env:base] *",
   "language": "python",
   "name": "conda-base-py"
  },
  "language_info": {
   "codemirror_mode": {
    "name": "ipython",
    "version": 3
   },
   "file_extension": ".py",
   "mimetype": "text/x-python",
   "name": "python",
   "nbconvert_exporter": "python",
   "pygments_lexer": "ipython3",
   "version": "3.12.7"
  }
 },
 "nbformat": 4,
 "nbformat_minor": 5
}
