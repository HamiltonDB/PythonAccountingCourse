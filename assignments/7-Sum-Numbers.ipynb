{
 "cells": [
  {
   "cell_type": "code",
   "execution_count": 1,
   "id": "5fa6f385-9de6-4407-b688-a69fb28439cd",
   "metadata": {},
   "outputs": [],
   "source": [
    "def sum_numbers_up_to(n):\n",
    "    \"\"\"\n",
    "    Your task: Calculate the sum of all numbers from 1 to n (inclusive).\n",
    "    \n",
    "    For example, if n = 5, calculate 1 + 2 + 3 + 4 + 5 = 15.\n",
    "    \n",
    "    Use a loop to solve this problem.\n",
    "    \"\"\"\n",
    "    \n",
    "    # YOUR CODE HERE\n",
    "    pass"
   ]
  },
  {
   "cell_type": "code",
   "execution_count": 3,
   "id": "99939a58-777e-4ead-b166-694f46fad74d",
   "metadata": {},
   "outputs": [
    {
     "name": "stdout",
     "output_type": "stream",
     "text": [
      "Testing sum_numbers_up_to:\n",
      "----------------------------------------\n",
      "❌ Sum up to 5: FAIL (Expected 15, got None)\n",
      "❌ Sum up to 10: FAIL (Expected 55, got None)\n",
      "❌ Sum up to 100: FAIL (Expected 5050, got None)\n"
     ]
    }
   ],
   "source": [
    "# Testing code, run to see if your code is correct\n",
    "def test_function(test_name, actual_result, expected_result):\n",
    "    \"\"\"Run a test and print if it passed or failed.\"\"\"\n",
    "    if actual_result == expected_result:\n",
    "        print(f\"✅ {test_name}: PASS\")\n",
    "    else:\n",
    "        print(f\"❌ {test_name}: FAIL (Expected {expected_result}, got {actual_result})\")\n",
    "\n",
    "\n",
    "print(\"Testing sum_numbers_up_to:\")\n",
    "print(\"-\" * 40)\n",
    "\n",
    "# Test case 1\n",
    "test_function(\"Sum up to 5\", sum_numbers_up_to(5), 15)\n",
    "\n",
    "# Test case 2\n",
    "test_function(\"Sum up to 10\", sum_numbers_up_to(10), 55)\n",
    "\n",
    "# Test case 3\n",
    "test_function(\"Sum up to 100\", sum_numbers_up_to(100), 5050)"
   ]
  },
  {
   "cell_type": "code",
   "execution_count": null,
   "id": "8ec56f89-6ac5-40cd-8621-615d58e40d18",
   "metadata": {},
   "outputs": [],
   "source": []
  }
 ],
 "metadata": {
  "kernelspec": {
   "display_name": "Python [conda env:base] *",
   "language": "python",
   "name": "conda-base-py"
  },
  "language_info": {
   "codemirror_mode": {
    "name": "ipython",
    "version": 3
   },
   "file_extension": ".py",
   "mimetype": "text/x-python",
   "name": "python",
   "nbconvert_exporter": "python",
   "pygments_lexer": "ipython3",
   "version": "3.12.7"
  }
 },
 "nbformat": 4,
 "nbformat_minor": 5
}
