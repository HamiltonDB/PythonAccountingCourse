{
 "cells": [
  {
   "cell_type": "code",
   "execution_count": 1,
   "id": "ba7c2ad3-919e-4dfa-a321-2bc55b3216bb",
   "metadata": {},
   "outputs": [],
   "source": [
    "def greet_user(name):\n",
    "    \"\"\"\n",
    "    Your task: Create a personalized greeting message.\n",
    "    \n",
    "    Create a string that says \"Hello, [name]! Welcome to Python programming.\"\n",
    "    \n",
    "    For example, if name = \"Alice\", return \"Hello, Alice! Welcome to Python programming.\"\n",
    "    \"\"\"\n",
    "    \n",
    "    # YOUR CODE HERE\n",
    "    pass"
   ]
  },
  {
   "cell_type": "code",
   "execution_count": 3,
   "id": "a2aabaef-0b44-4ae9-8599-e2036b94ff2e",
   "metadata": {},
   "outputs": [
    {
     "name": "stdout",
     "output_type": "stream",
     "text": [
      "Testing greet_user:\n",
      "----------------------------------------\n",
      "❌ Greeting for Alice: FAIL (Expected Hello, Alice! Welcome to Python programming., got None)\n",
      "❌ Greeting for Bob: FAIL (Expected Hello, Bob! Welcome to Python programming., got None)\n"
     ]
    }
   ],
   "source": [
    "# Testing code, run to see if your code is correct\n",
    "def test_function(test_name, actual_result, expected_result):\n",
    "    \"\"\"Run a test and print if it passed or failed.\"\"\"\n",
    "    if actual_result == expected_result:\n",
    "        print(f\"✅ {test_name}: PASS\")\n",
    "    else:\n",
    "        print(f\"❌ {test_name}: FAIL (Expected {expected_result}, got {actual_result})\")\n",
    "\n",
    "\n",
    "print(\"Testing greet_user:\")\n",
    "print(\"-\" * 40)\n",
    "\n",
    "# Test case 1\n",
    "test_function(\"Greeting for Alice\", \n",
    "              greet_user(\"Alice\"), \n",
    "              \"Hello, Alice! Welcome to Python programming.\")\n",
    "\n",
    "# Test case 2\n",
    "test_function(\"Greeting for Bob\", \n",
    "              greet_user(\"Bob\"), \n",
    "              \"Hello, Bob! Welcome to Python programming.\")"
   ]
  },
  {
   "cell_type": "code",
   "execution_count": null,
   "id": "b5ae5146-a8f1-4374-b902-87ceb2f2de28",
   "metadata": {},
   "outputs": [],
   "source": []
  }
 ],
 "metadata": {
  "kernelspec": {
   "display_name": "Python [conda env:base] *",
   "language": "python",
   "name": "conda-base-py"
  },
  "language_info": {
   "codemirror_mode": {
    "name": "ipython",
    "version": 3
   },
   "file_extension": ".py",
   "mimetype": "text/x-python",
   "name": "python",
   "nbconvert_exporter": "python",
   "pygments_lexer": "ipython3",
   "version": "3.12.7"
  }
 },
 "nbformat": 4,
 "nbformat_minor": 5
}
