{
 "cells": [
  {
   "cell_type": "code",
   "execution_count": 3,
   "id": "d0beff87-2314-4c38-8b39-c16ac6a5028b",
   "metadata": {},
   "outputs": [],
   "source": [
    "def calculate_shipping_cost(item_price):\n",
    "    \"\"\"\n",
    "    Your task: Calculate shipping cost based on item price.\n",
    "    \n",
    "    If the item price is less than $20, shipping costs $5.99.\n",
    "    If the item price is between $20 and $49.99 (inclusive), shipping costs $3.99.\n",
    "    If the item price is $50 or more, shipping is free (return 0).\n",
    "    \n",
    "    For example, if item_price = 15, return 5.99.\n",
    "    \"\"\"\n",
    "    \n",
    "    # YOUR CODE HERE\n",
    "    pass"
   ]
  },
  {
   "cell_type": "code",
   "execution_count": 5,
   "id": "e9205542-974e-4957-aeae-7d504477d568",
   "metadata": {},
   "outputs": [
    {
     "name": "stdout",
     "output_type": "stream",
     "text": [
      "Testing calculate_shipping_cost:\n",
      "----------------------------------------\n",
      "❌ Item price $15: FAIL (Expected 5.99, got None)\n",
      "❌ Item price $25: FAIL (Expected 3.99, got None)\n",
      "❌ Item price $60: FAIL (Expected 0, got None)\n"
     ]
    }
   ],
   "source": [
    "# Testing code, run to see if your code is correct\n",
    "def test_function(test_name, actual_result, expected_result):\n",
    "    \"\"\"Run a test and print if it passed or failed.\"\"\"\n",
    "    if actual_result == expected_result:\n",
    "        print(f\"✅ {test_name}: PASS\")\n",
    "    else:\n",
    "        print(f\"❌ {test_name}: FAIL (Expected {expected_result}, got {actual_result})\")\n",
    "\n",
    "\n",
    "print(\"Testing calculate_shipping_cost:\")\n",
    "print(\"-\" * 40)\n",
    "\n",
    "# Test case 1\n",
    "test_function(\"Item price $15\", calculate_shipping_cost(15), 5.99)\n",
    "\n",
    "# Test case 2\n",
    "test_function(\"Item price $25\", calculate_shipping_cost(25), 3.99)\n",
    "\n",
    "# Test case 3\n",
    "test_function(\"Item price $60\", calculate_shipping_cost(60), 0)"
   ]
  },
  {
   "cell_type": "code",
   "execution_count": null,
   "id": "c0521205-e381-4a40-a8fe-b0450ce2ded5",
   "metadata": {},
   "outputs": [],
   "source": []
  }
 ],
 "metadata": {
  "kernelspec": {
   "display_name": "Python [conda env:base] *",
   "language": "python",
   "name": "conda-base-py"
  },
  "language_info": {
   "codemirror_mode": {
    "name": "ipython",
    "version": 3
   },
   "file_extension": ".py",
   "mimetype": "text/x-python",
   "name": "python",
   "nbconvert_exporter": "python",
   "pygments_lexer": "ipython3",
   "version": "3.12.7"
  }
 },
 "nbformat": 4,
 "nbformat_minor": 5
}
