{
 "cells": [
  {
   "cell_type": "markdown",
   "id": "98285a1c-bcd7-4e4b-b713-e524dc6bd3d6",
   "metadata": {},
   "source": [
    "# Python Basics: Functions and Arithmetic Operations\n",
    "Since this is your first assignment I will write a blurb at the top here about how the assignments I have made work\n",
    "\n",
    "## Where you work\n",
    "I will provide you with a cell that you write your code in. You can make multiple cells if you like (but keep them next to the cells I have noted)\n",
    "to make your code easier to read, to test, or do whatever you would like. In this case the cell is the one below that starts with\n",
    "`def calculate_rectangle_area`\n",
    "\n",
    "This function is predefined for you and you will be writing code inside that function to do what it says. The variables for this function you can see\n",
    "after the name `(width, height)` so you will calculate the area and then `return` the value\n",
    "\n",
    "## How to test your code\n",
    "When you have written code you would like to test, you should run the bottom cell that starts with `# Testing code, run to see if your code is correct`. It will run a few test cases on it to see if your code succeeds and will print below the box the results. To finish the assignment you should get check marks on all of the tests. Feel free also to add tests of your own. The provided tests for these assignments are not meant to cover every case and I encourage you trying out your function yourself too!"
   ]
  },
  {
   "cell_type": "code",
   "execution_count": 25,
   "id": "e6f446bc-0a67-4444-a76c-20704311472e",
   "metadata": {},
   "outputs": [],
   "source": [
    "def calculate_rectangle_area(width, height):\n",
    "    \"\"\"\n",
    "    Your task: Calculate the area of a rectangle.\n",
    "    \n",
    "    The area of a rectangle is width × height.\n",
    "    \n",
    "    For example, if width = 5 and height = 3, the area is 15.\n",
    "    \n",
    "    Complete this function so it returns the correct area value.\n",
    "    \"\"\"\n",
    "    \n",
    "    # YOUR CODE HERE\n",
    "    pass"
   ]
  },
  {
   "cell_type": "markdown",
   "id": "6cc8a799-0716-409b-8092-1999e9c8d3fd",
   "metadata": {},
   "source": [
    "# Test Cases\n",
    "The test cases for this assignment I have noted below in a list for clarity\n",
    "1. Width = 5, Height = 10 → Expected Area = 50\n",
    "2. Width = 7, Height = 3 → Expected Area = 21\n",
    "3. Width = 2.5, Height = 4 → Expected Area = 10\n",
    "\n",
    "If you look below in the code block you can see these test cases being defined\n",
    "`test_function(\"Width 5, Height 10\", calculate_rectangle_area(5, 10), 50)`\n",
    "\n",
    "In this one you can see we are running your function `calculate_rectangle_area` with width `5` and height `10` and expecting the value of `50`\n",
    "\n",
    "In your future assignments I will just provide the testing block so check the bottom of that block to see the test cases"
   ]
  },
  {
   "cell_type": "code",
   "execution_count": 23,
   "id": "529e5320-2bb5-4855-bafc-3099a49e6bbe",
   "metadata": {},
   "outputs": [
    {
     "name": "stdout",
     "output_type": "stream",
     "text": [
      "Testing calculate_rectangle_area:\n",
      "----------------------------------------\n",
      "❌ Width 5, Height 10: FAIL (Expected 50, got None)\n",
      "❌ Width 7, Height 3: FAIL (Expected 21, got None)\n",
      "❌ Width 2.5, Height 4: FAIL (Expected 10, got None)\n"
     ]
    }
   ],
   "source": [
    "# Testing code, run to see if your code is correct\n",
    "def test_function(test_name, actual_result, expected_result):\n",
    "    \"\"\"Run a test and print if it passed or failed.\"\"\"\n",
    "    if actual_result == expected_result:\n",
    "        print(f\"✅ {test_name}: PASS\")\n",
    "    else:\n",
    "        print(f\"❌ {test_name}: FAIL (Expected {expected_result}, got {actual_result})\")\n",
    "\n",
    "\n",
    "# Test code - do not modify\n",
    "print(\"Testing calculate_rectangle_area:\")\n",
    "print(\"-\" * 40)\n",
    "\n",
    "# Test case 1\n",
    "test_function(\"Width 5, Height 10\", calculate_rectangle_area(5, 10), 50)\n",
    "\n",
    "# Test case 2\n",
    "test_function(\"Width 7, Height 3\", calculate_rectangle_area(7, 3), 21)\n",
    "\n",
    "# Test case 3\n",
    "test_function(\"Width 2.5, Height 4\", calculate_rectangle_area(2.5, 4), 10)"
   ]
  },
  {
   "cell_type": "code",
   "execution_count": null,
   "id": "06086f66-c652-44ee-8ed9-84e785cadc48",
   "metadata": {},
   "outputs": [],
   "source": []
  }
 ],
 "metadata": {
  "kernelspec": {
   "display_name": "Python [conda env:base] *",
   "language": "python",
   "name": "conda-base-py"
  },
  "language_info": {
   "codemirror_mode": {
    "name": "ipython",
    "version": 3
   },
   "file_extension": ".py",
   "mimetype": "text/x-python",
   "name": "python",
   "nbconvert_exporter": "python",
   "pygments_lexer": "ipython3",
   "version": "3.12.7"
  }
 },
 "nbformat": 4,
 "nbformat_minor": 5
}
