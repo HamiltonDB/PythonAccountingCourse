{
 "cells": [
  {
   "cell_type": "code",
   "execution_count": 1,
   "id": "cb06b461-72ac-448d-b45f-c29b283cc812",
   "metadata": {},
   "outputs": [],
   "source": [
    "def format_phone_number(digits):\n",
    "    \"\"\"\n",
    "    Your task: Format a 10-digit phone number string into a readable format.\n",
    "    \n",
    "    Transform the input from a string like \"1234567890\" to \"(123) 456-7890\".\n",
    "    \n",
    "    The input will always be a string containing exactly 10 digits.\n",
    "    \"\"\"\n",
    "    \n",
    "    # YOUR CODE HERE\n",
    "    pass"
   ]
  },
  {
   "cell_type": "code",
   "execution_count": 3,
   "id": "fd904292-88f6-443e-9701-ad856089eeb9",
   "metadata": {},
   "outputs": [
    {
     "name": "stdout",
     "output_type": "stream",
     "text": [
      "Testing format_phone_number:\n",
      "----------------------------------------\n",
      "❌ Format 1234567890: FAIL (Expected (123) 456-7890, got None)\n",
      "❌ Format 9876543210: FAIL (Expected (987) 654-3210, got None)\n"
     ]
    }
   ],
   "source": [
    "# Testing code, run to see if your code is correct\n",
    "def test_function(test_name, actual_result, expected_result):\n",
    "    \"\"\"Run a test and print if it passed or failed.\"\"\"\n",
    "    if actual_result == expected_result:\n",
    "        print(f\"✅ {test_name}: PASS\")\n",
    "    else:\n",
    "        print(f\"❌ {test_name}: FAIL (Expected {expected_result}, got {actual_result})\")\n",
    "\n",
    "\n",
    "print(\"Testing format_phone_number:\")\n",
    "print(\"-\" * 40)\n",
    "\n",
    "# Test case 1\n",
    "test_function(\"Format 1234567890\", format_phone_number(\"1234567890\"), \"(123) 456-7890\")\n",
    "\n",
    "# Test case 2\n",
    "test_function(\"Format 9876543210\", format_phone_number(\"9876543210\"), \"(987) 654-3210\")"
   ]
  },
  {
   "cell_type": "code",
   "execution_count": null,
   "id": "8bed4855-6ed9-4d72-9e9e-536f3bb1f669",
   "metadata": {},
   "outputs": [],
   "source": []
  }
 ],
 "metadata": {
  "kernelspec": {
   "display_name": "Python [conda env:base] *",
   "language": "python",
   "name": "conda-base-py"
  },
  "language_info": {
   "codemirror_mode": {
    "name": "ipython",
    "version": 3
   },
   "file_extension": ".py",
   "mimetype": "text/x-python",
   "name": "python",
   "nbconvert_exporter": "python",
   "pygments_lexer": "ipython3",
   "version": "3.12.7"
  }
 },
 "nbformat": 4,
 "nbformat_minor": 5
}
