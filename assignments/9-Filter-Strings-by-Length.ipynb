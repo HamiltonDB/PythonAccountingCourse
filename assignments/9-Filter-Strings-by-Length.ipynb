{
 "cells": [
  {
   "cell_type": "code",
   "execution_count": 1,
   "id": "27c4768a-ded5-48b7-b316-f95e03eb36de",
   "metadata": {},
   "outputs": [],
   "source": [
    "def filter_strings_by_length(string_list, min_length):\n",
    "    \"\"\"\n",
    "    Your task: Filter a list of strings to include only those with at least the minimum length.\n",
    "    \n",
    "    Create a new list containing only the strings from string_list that have a length\n",
    "    greater than or equal to min_length.\n",
    "    \n",
    "    For example, if string_list = [\"apple\", \"banana\", \"kiwi\", \"pear\"] and min_length = 5,\n",
    "    return [\"apple\", \"banana\"].\n",
    "    \"\"\"\n",
    "    \n",
    "    # YOUR CODE HERE\n",
    "    pass"
   ]
  },
  {
   "cell_type": "code",
   "execution_count": 3,
   "id": "a3aeca80-3f36-4061-a0ce-a73a406bb86c",
   "metadata": {},
   "outputs": [
    {
     "name": "stdout",
     "output_type": "stream",
     "text": [
      "Testing filter_strings_by_length:\n",
      "----------------------------------------\n",
      "❌ Strings with length >= 5: FAIL (Expected ['apple', 'banana', 'orange'], got None)\n",
      "❌ Strings with length >= 4: FAIL (Expected ['mouse', 'elephant', 'bird'], got None)\n"
     ]
    }
   ],
   "source": [
    "# Testing code, run to see if your code is correct\n",
    "def test_function(test_name, actual_result, expected_result):\n",
    "    \"\"\"Run a test and print if it passed or failed.\"\"\"\n",
    "    # For lists, we need to sort both lists to ensure order doesn't matter\n",
    "    if isinstance(actual_result, list) and isinstance(expected_result, list):\n",
    "        if sorted(actual_result) == sorted(expected_result):\n",
    "            print(f\"✅ {test_name}: PASS\")\n",
    "        else:\n",
    "            print(f\"❌ {test_name}: FAIL (Expected {expected_result}, got {actual_result})\")\n",
    "    elif actual_result == expected_result:\n",
    "        print(f\"✅ {test_name}: PASS\")\n",
    "    else:\n",
    "        print(f\"❌ {test_name}: FAIL (Expected {expected_result}, got {actual_result})\")\n",
    "\n",
    "\n",
    "print(\"Testing filter_strings_by_length:\")\n",
    "print(\"-\" * 40)\n",
    "\n",
    "# Test case 1\n",
    "fruits = [\"apple\", \"banana\", \"kiwi\", \"pear\", \"orange\"]\n",
    "filtered1 = filter_strings_by_length(fruits, 5)\n",
    "test_function(\"Strings with length >= 5\", filtered1, [\"apple\", \"banana\", \"orange\"])\n",
    "\n",
    "# Test case 2\n",
    "words = [\"cat\", \"dog\", \"mouse\", \"elephant\", \"bird\"]\n",
    "filtered2 = filter_strings_by_length(words, 4)\n",
    "test_function(\"Strings with length >= 4\", filtered2, [\"mouse\", \"elephant\", \"bird\"])"
   ]
  },
  {
   "cell_type": "code",
   "execution_count": null,
   "id": "6c81732d-40be-4fd5-866f-b318405d9d0d",
   "metadata": {},
   "outputs": [],
   "source": []
  }
 ],
 "metadata": {
  "kernelspec": {
   "display_name": "Python [conda env:base] *",
   "language": "python",
   "name": "conda-base-py"
  },
  "language_info": {
   "codemirror_mode": {
    "name": "ipython",
    "version": 3
   },
   "file_extension": ".py",
   "mimetype": "text/x-python",
   "name": "python",
   "nbconvert_exporter": "python",
   "pygments_lexer": "ipython3",
   "version": "3.12.7"
  }
 },
 "nbformat": 4,
 "nbformat_minor": 5
}
