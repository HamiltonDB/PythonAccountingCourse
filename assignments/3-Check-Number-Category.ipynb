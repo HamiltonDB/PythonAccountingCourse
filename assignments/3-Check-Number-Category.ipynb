{
 "cells": [
  {
   "cell_type": "code",
   "execution_count": 1,
   "id": "5b664520-bf4f-47a9-ba2f-04fd30c7a685",
   "metadata": {},
   "outputs": [],
   "source": [
    "def check_number_category(number):\n",
    "    \"\"\"\n",
    "    Your task: Categorize a number as \"Positive\", \"Negative\", or \"Zero\".\n",
    "    \n",
    "    If the number is greater than 0, return \"Positive\".\n",
    "    If the number is less than 0, return \"Negative\".\n",
    "    If the number is equal to 0, return \"Zero\".\n",
    "    \n",
    "    For example, if number = 5, return \"Positive\".\n",
    "    \"\"\"\n",
    "    \n",
    "    # YOUR CODE HERE\n",
    "    pass"
   ]
  },
  {
   "cell_type": "code",
   "execution_count": 3,
   "id": "dd73d72b-1d6b-40a2-8949-4246c051a55b",
   "metadata": {},
   "outputs": [
    {
     "name": "stdout",
     "output_type": "stream",
     "text": [
      "Testing check_number_category:\n",
      "----------------------------------------\n",
      "❌ Number 10: FAIL (Expected Positive, got None)\n",
      "❌ Number -7: FAIL (Expected Negative, got None)\n",
      "❌ Number 0: FAIL (Expected Zero, got None)\n"
     ]
    }
   ],
   "source": [
    "# Testing code, run to see if your code is correct\n",
    "def test_function(test_name, actual_result, expected_result):\n",
    "    \"\"\"Run a test and print if it passed or failed.\"\"\"\n",
    "    if actual_result == expected_result:\n",
    "        print(f\"✅ {test_name}: PASS\")\n",
    "    else:\n",
    "        print(f\"❌ {test_name}: FAIL (Expected {expected_result}, got {actual_result})\")\n",
    "\n",
    "\n",
    "print(\"Testing check_number_category:\")\n",
    "print(\"-\" * 40)\n",
    "\n",
    "# Test case 1\n",
    "test_function(\"Number 10\", check_number_category(10), \"Positive\")\n",
    "\n",
    "# Test case 2\n",
    "test_function(\"Number -7\", check_number_category(-7), \"Negative\")\n",
    "\n",
    "# Test case 3\n",
    "test_function(\"Number 0\", check_number_category(0), \"Zero\")"
   ]
  },
  {
   "cell_type": "code",
   "execution_count": null,
   "id": "45d7c07a-ce61-4d39-8e67-4080b033c4df",
   "metadata": {},
   "outputs": [],
   "source": []
  }
 ],
 "metadata": {
  "kernelspec": {
   "display_name": "Python [conda env:base] *",
   "language": "python",
   "name": "conda-base-py"
  },
  "language_info": {
   "codemirror_mode": {
    "name": "ipython",
    "version": 3
   },
   "file_extension": ".py",
   "mimetype": "text/x-python",
   "name": "python",
   "nbconvert_exporter": "python",
   "pygments_lexer": "ipython3",
   "version": "3.12.7"
  }
 },
 "nbformat": 4,
 "nbformat_minor": 5
}
